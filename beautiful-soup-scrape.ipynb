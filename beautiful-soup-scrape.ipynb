{
 "cells": [
  {
   "cell_type": "code",
   "execution_count": null,
   "id": "759c8583-4799-47ee-af5f-2e3f2c402dc7",
   "metadata": {},
   "outputs": [],
   "source": [
    "# A basic walkthrough of Beautiful Soup HTML parsing and Pandas dataframe\n",
    "\n",
    "from bs4 import BeautifulSoup\n",
    "import requests\n",
    "import pandas as pd\n",
    "\n",
    "# fetch webpage which we want to scrape and store the response as a variable ('page')\n",
    "url = \"https://en.wikipedia.org/wiki/List_of_largest_companies_in_the_United_Kingdom\"\n",
    "page = requests.get(url)\n",
    "\n",
    "# parse the HTML content of the webpage using BeautifulSoup and store as a variable\n",
    "soup = BeautifulSoup(page.text, 'html')"
   ]
  },
  {
   "cell_type": "code",
   "execution_count": null,
   "id": "9eafca09-6d51-4e73-98c9-ab92e94ccddb",
   "metadata": {
    "scrolled": true
   },
   "outputs": [],
   "source": [
    "print(soup)"
   ]
  },
  {
   "cell_type": "code",
   "execution_count": null,
   "id": "b3caafc1-5660-4b80-9b4f-0b144849d10a",
   "metadata": {},
   "outputs": [],
   "source": [
    "# find all table elements in the first table \n",
    "table = soup.find_all('table')[0]\n",
    "print(table)"
   ]
  },
  {
   "cell_type": "code",
   "execution_count": null,
   "id": "fec08a3f-4859-4333-80a1-d6dcd43a1962",
   "metadata": {},
   "outputs": [],
   "source": [
    "world_titles = table.find_all('th')"
   ]
  },
  {
   "cell_type": "code",
   "execution_count": null,
   "id": "b49b31bd-05a5-403a-a75c-b22b2ac0efc6",
   "metadata": {},
   "outputs": [],
   "source": [
    "# pull out column headers from table\n",
    "world_tables_titles = [title.text.strip() for title in world_titles]\n",
    "print(world_tables_titles)"
   ]
  },
  {
   "cell_type": "code",
   "execution_count": null,
   "id": "43aaccec-17af-4ecb-8c98-19c80b573743",
   "metadata": {},
   "outputs": [],
   "source": [
    "# set up empty dataframe with column headers\n",
    "df = pd.DataFrame(columns = world_tables_titles)\n",
    "print(df)"
   ]
  },
  {
   "cell_type": "code",
   "execution_count": null,
   "id": "7a87967c-6592-4fa3-be2b-6fbeb431ebe2",
   "metadata": {},
   "outputs": [],
   "source": [
    "column_row = table.find_all('tr')"
   ]
  },
  {
   "cell_type": "code",
   "execution_count": null,
   "id": "d662a2fe-5fc4-4989-9437-e39910664e61",
   "metadata": {},
   "outputs": [],
   "source": [
    "# enter records into dataframe, skipping the first header row\n",
    "for row in column_row[1:]:\n",
    "    row_data = row.find_all('td')\n",
    "    individual_row_data = [data.text.strip() for data in row_data]\n",
    "\n",
    "    length = len(df)\n",
    "    df.loc[length] = individual_row_data"
   ]
  },
  {
   "cell_type": "code",
   "execution_count": null,
   "id": "d35de66c-2533-4a4d-892a-261d22d5befc",
   "metadata": {},
   "outputs": [],
   "source": [
    "df"
   ]
  },
  {
   "cell_type": "code",
   "execution_count": null,
   "id": "96eb0d38-fdc2-4f00-97a4-3692e4200c18",
   "metadata": {},
   "outputs": [],
   "source": [
    "# store to a CSV file & remove ID column\n",
    "df.to_csv(r'/absolutepath', Index=False)"
   ]
  },
  {
   "cell_type": "code",
   "execution_count": null,
   "id": "06ef2000-5ef2-4f91-9273-72dc95e140d0",
   "metadata": {},
   "outputs": [],
   "source": []
  }
 ],
 "metadata": {
  "kernelspec": {
   "display_name": "Python 3 (ipykernel)",
   "language": "python",
   "name": "python3"
  },
  "language_info": {
   "codemirror_mode": {
    "name": "ipython",
    "version": 3
   },
   "file_extension": ".py",
   "mimetype": "text/x-python",
   "name": "python",
   "nbconvert_exporter": "python",
   "pygments_lexer": "ipython3",
   "version": "3.12.2"
  }
 },
 "nbformat": 4,
 "nbformat_minor": 5
}
